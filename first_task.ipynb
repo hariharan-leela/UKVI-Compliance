{
  "nbformat": 4,
  "nbformat_minor": 0,
  "metadata": {
    "colab": {
      "provenance": [],
      "mount_file_id": "1p4zlwsOKBWuYWOvYoTOrN63HYcn-nLJ0",
      "authorship_tag": "ABX9TyMHFDb9HduyEULf2x2Pn4dP",
      "include_colab_link": true
    },
    "kernelspec": {
      "name": "python3",
      "display_name": "Python 3"
    },
    "language_info": {
      "name": "python"
    }
  },
  "cells": [
    {
      "cell_type": "markdown",
      "metadata": {
        "id": "view-in-github",
        "colab_type": "text"
      },
      "source": [
        "<a href=\"https://colab.research.google.com/github/hariharan-leela/UKVI-Compliance/blob/main/first_task.ipynb\" target=\"_parent\"><img src=\"https://colab.research.google.com/assets/colab-badge.svg\" alt=\"Open In Colab\"/></a>"
      ]
    },
    {
      "cell_type": "code",
      "execution_count": null,
      "metadata": {
        "colab": {
          "base_uri": "https://localhost:8080/"
        },
        "id": "QQumKwEOi_G0",
        "outputId": "058bf3a5-b6c4-48d9-fb9d-9a0f470c40b5"
      },
      "outputs": [
        {
          "output_type": "stream",
          "name": "stdout",
          "text": [
            "[['passport_surya.pdf', 'Certified Passport(front & back)'], ['allen macwan - cv.pdf', 'CV'], ['signed offer letter smitha.pdf', 'Signed Offer Letter'], ['leela consultancy limited - employee payslip for jun-2022 for n priya.pdf', 'Reference Letters from previous employers'], ['sheenam visa approval letter.pdf', 'Home Office Approval Letter'], ['visa approval email.pdf', 'Home Office Approval Letter'], ['certified brp.pdf', 'Certified BRP(front & back)'], ['sureshresumeupdated(2).docx', 'CV'], ['passport first page.pdf', 'Certified Passport(front & back)'], ['starter form.docx', 'Starter Form'], ['approval letter.jpg', 'Home Office Approval Letter'], ['cv.pdf', 'CV'], ['cv.pdf', 'CV'], ['nupur priya rtwc.pdf', 'RTWC online/offline form'], ['old brp.pdf', 'Certified BRP(front & back)'], ['rafi certified passport.pdf', 'Certified Passport(front & back)'], ['senior statistical programmers job description.pdf', 'Job Description'], ['hariharan starter form.docx', 'Starter Form'], ['passport.pdf', 'Certified Passport(front & back)'], ['not applicable - addendum.docx', 'Addendum Signed'], ['sai krishna - test analyst cv.docx', 'CV'], ['compliance undertaking.pdf', 'Compliance Undertaking'], ['pension enrolment letter .pdf', 'Pension Form'], ['siddip_neduri recording_19thnov,2022 640x360.mp4', 'Interview Recording'], ['leela starter form .docx', 'Starter Form']]\n"
          ]
        }
      ],
      "source": [
        "file_names = [[\"passport_surya.pdf\",\"\"],\n",
        "              [\"allen macwan - cv.pdf\",\"\"],\n",
        "              [\"signed offer letter smitha.pdf\",\"\"],\n",
        "              [\"leela consultancy limited - employee payslip for jun-2022 for n priya.pdf\",\"\"],\n",
        "              [\"sheenam visa approval letter.pdf\",\"\"],\n",
        "              [\"visa approval email.pdf\",\"\"],\n",
        "              [\"certified brp.pdf\",\"\"],\n",
        "              [\"sureshresumeupdated(2).docx\",\"\"],\n",
        "              [\"passport first page.pdf\",\"\"],\n",
        "              [\"starter form.docx\",\"\"],\n",
        "              [\"approval letter.jpg\",\"\"],\n",
        "              [\"cv.pdf\",\"\"],\n",
        "              [\"cv.pdf\",\"\"],\n",
        "              [\"nupur priya rtwc.pdf\",\"\"],\n",
        "              [\"old brp.pdf\",\"\"],\n",
        "              [\"rafi certified passport.pdf\",\"\"],\n",
        "              [\"senior statistical programmers job description.pdf\",\"\"],\n",
        "              [\"hariharan starter form.docx\",\"\"],\n",
        "              [\"passport.pdf\",\"\"],\n",
        "              [\"not applicable - addendum.docx\",\"\"],\n",
        "              [\"sai krishna - test analyst cv.docx\",\"\"],\n",
        "              [\"compliance undertaking.pdf\",\"\"],\n",
        "              [\"pension enrolment letter .pdf\",\"\"],\n",
        "              [\"siddip_neduri recording_19thnov,2022 640x360.mp4\",\"\"],\n",
        "              [\"leela starter form .docx\",\"\"],]\n",
        "\n",
        "def identify_and_add_classification(list):\n",
        "  for i in range(0,len(list)):\n",
        "    if \".mp4\" in list[i][0]:\n",
        "      classification = \"Interview Recording\"\n",
        "    elif \"cv\" in list[i][0]:\n",
        "      classification = \"CV\"\n",
        "    elif \"resume\" in list[i][0]:\n",
        "      classification = \"CV\"\n",
        "    elif \"passport\" in list[i][0]:\n",
        "      classification = \"Certified Passport(front & back)\"\n",
        "    elif \"brp\" in list[i][0]:\n",
        "      classification = \"Certified BRP(front & back)\"\n",
        "    elif \"starter form\" in list[i][0]:\n",
        "      classification = \"Starter Form\"\n",
        "    elif \"pension\" in list[i][0]:\n",
        "      classification = \"Pension Form\"\n",
        "    elif \"addendum\" in list[i][0]:\n",
        "      classification = \"Addendum Signed\"\n",
        "    elif \"compliance undertaking\" in list[i][0]:\n",
        "      classification = \"Compliance Undertaking\"\n",
        "    elif \"job description\" in list[i][0]:\n",
        "      classification = \"Job Description\"\n",
        "    elif \"rtwc\" in list[i][0]:\n",
        "      classification = \"RTWC online/offline form\"\n",
        "    elif \"offer letter\" in list[i][0]:\n",
        "      classification = \"Signed Offer Letter\"\n",
        "    elif \"approval\" in list[i][0]:\n",
        "      classification = \"Home Office Approval Letter\"\n",
        "    elif \"employee\" in list[i][0]:\n",
        "      classification = \"Reference Letters from previous employers\"\n",
        "    else:\n",
        "      classification = \"Unknown\"\n",
        "    list[i][1] = classification\n",
        "  return list\n",
        "print(identify_and_add_classification(file_names))"
      ]
    },
    {
      "cell_type": "code",
      "source": [
        "num_of_files = int(input(\"Enter the nummer of files to classify: \"))\n",
        "\n",
        "file_names = []\n",
        "classification = []\n",
        "for i in range(num_of_files):\n",
        "  file_names.append(input(\"Enter the file name: \"))\n",
        "  if \".mp4\" in file_names[i]:\n",
        "      classification.append(\"Interview Recording\")\n",
        "  elif \"cv\" in file_names[i]:\n",
        "      classification.append(\"CV\")\n",
        "  elif \"resume\" in file_names[i]:\n",
        "      classification.append(\"CV\")\n",
        "  elif \"passport\" in file_names[i]:\n",
        "      classification.append(\"Certified Passport(front & back)\")\n",
        "  elif \"brp\" in file_names[i]:\n",
        "      classification.append(\"Certified BRP(front & back)\")\n",
        "  elif \"starter form\" in file_names[i]:\n",
        "      classification.append(\"Starter Form\")\n",
        "  elif \"pension\" in file_names[i]:\n",
        "      classification.append(\"Pension Form\")\n",
        "  elif \"addendum\" in file_names[i]:\n",
        "      classification.append(\"Addendum Signed\")\n",
        "  elif \"compliance undertaking\" in file_names[i]:\n",
        "      classification.append(\"Compliance Undertaking\")\n",
        "  elif \"job description\" in file_names[i]:\n",
        "      classification.append(\"Job Description\")\n",
        "  elif \"rtwc\" in file_names[i]:\n",
        "      classification.append(\"RTWC online/offline form\")\n",
        "  elif \"offer letter\" in file_names[i]:\n",
        "      classification.append(\"Signed Offer Letter\")\n",
        "  elif \"approval\" in file_names[i]:\n",
        "      classification.append(\"Home Office Approval Letter\")\n",
        "  elif \"employee\" in file_names[i]:\n",
        "      classification.append(\"Reference Letters from previous employers\")\n",
        "  else:\n",
        "      classification.append(\"Unknown\")\n",
        "print(file_names)\n",
        "print(classification)\n"
      ],
      "metadata": {
        "id": "SDh7SWGhkMCH",
        "colab": {
          "base_uri": "https://localhost:8080/"
        },
        "outputId": "115840c8-cf79-4abe-cfe3-be6bae016198"
      },
      "execution_count": null,
      "outputs": [
        {
          "output_type": "stream",
          "name": "stdout",
          "text": [
            "Enter the nummer of files to classify: 2\n",
            "Enter the file name: cv.pdf\n",
            "Enter the file name: resume.pdf\n",
            "['cv.pdf', 'resume.pdf']\n",
            "['CV', 'CV']\n"
          ]
        }
      ]
    }
  ]
}